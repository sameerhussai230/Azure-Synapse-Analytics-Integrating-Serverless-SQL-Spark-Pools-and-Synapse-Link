{
  "nbformat": 4,
  "nbformat_minor": 2,
  "metadata": {
    "kernelspec": {
      "name": "synapse_pyspark",
      "display_name": "Synapse PySpark"
    },
    "language_info": {
      "name": "python"
    },
    "description": null,
    "save_output": true,
    "synapse_widget": {
      "version": "0.1",
      "state": {
        "cc3f0cf6-91b5-4f28-b95c-f0ac8bf5f025": {
          "type": "Synapse.DataFrame",
          "sync_state": {
            "table": {
              "rows": [
                {
                  "0": "tWExAJiIl8MEAAAAAAAAAA==",
                  "1": "1708917613",
                  "2": "driver-000004",
                  "3": "true",
                  "4": "2.01",
                  "5": "4",
                  "6": "device-000004",
                  "7": "2022-05-16T01:25:43.501Z",
                  "8": {
                    "latitude": 40.8448,
                    "longitude": 73.8648
                  },
                  "9": {
                    "latitude": 40.8431,
                    "longitude": 73.9122
                  },
                  "10": "65092a00-a9b1-4e00-adec-c6649516cc71",
                  "11": "\"41008dfd-0000-0100-0000-65dc036d0000\""
                },
                {
                  "0": "tWExAJiIl8MFAAAAAAAAAA==",
                  "1": "1708917631",
                  "2": "driver-000005",
                  "3": "true",
                  "4": "20.8",
                  "5": "54",
                  "6": "device-000005",
                  "7": "2022-05-16T01:25:43.519Z",
                  "8": {
                    "latitude": 40.7282,
                    "longitude": 73.7949
                  },
                  "9": {
                    "latitude": 40.7231,
                    "longitude": 73.9412
                  },
                  "10": "1b5d46d6-1e04-41b9-a20d-85ca5e30bc3c",
                  "11": "\"410065fe-0000-0100-0000-65dc037f0000\""
                },
                {
                  "0": "tWExAJiIl8MDAAAAAAAAAA==",
                  "1": "1708917598",
                  "2": "driver-000003",
                  "3": "true",
                  "4": "1.03",
                  "5": "5",
                  "6": "device-000003",
                  "7": "2022-05-16T01:25:43.517Z",
                  "8": {
                    "latitude": 40.8116,
                    "longitude": 73.9465
                  },
                  "9": {
                    "latitude": 40.8131,
                    "longitude": 73.9562
                  },
                  "10": "960c6f6a-5b62-47be-8bc0-1f466a02fea7",
                  "11": "\"410005fc-0000-0100-0000-65dc035e0000\""
                },
                {
                  "0": "tWExAJiIl8MBAAAAAAAAAA==",
                  "1": "1708916161",
                  "2": "driver-000001",
                  "3": "true",
                  "4": "10.02",
                  "5": "22",
                  "6": "device-000001",
                  "7": "2022-05-16T01:25:43.511Z",
                  "8": {
                    "latitude": 40.7831,
                    "longitude": 73.9712
                  },
                  "9": {
                    "latitude": 40.7931,
                    "longitude": 73.9512
                  },
                  "10": "7dbf03b7-5bc0-4ba7-9158-47cd326599f7",
                  "11": "\"41008ad8-0000-0100-0000-65dbfdc10000\""
                },
                {
                  "0": "tWExAJiIl8MCAAAAAAAAAA==",
                  "1": "1708916179",
                  "2": "driver-000002",
                  "3": "false",
                  "4": "0.0",
                  "5": "0",
                  "6": "device-000002",
                  "7": "2022-05-16T01:25:43.515Z",
                  "8": {
                    "latitude": 40.6782,
                    "longitude": 73.9442
                  },
                  "9": {
                    "latitude": 40.6731,
                    "longitude": 73.9502
                  },
                  "10": "6986cbc9-2ef8-4ebc-8ae2-fa3b1ab4248e",
                  "11": "\"41008ed8-0000-0100-0000-65dbfdd30000\""
                }
              ],
              "schema": [
                {
                  "key": "0",
                  "name": "_rid",
                  "type": "string"
                },
                {
                  "key": "1",
                  "name": "_ts",
                  "type": "bigint"
                },
                {
                  "key": "2",
                  "name": "driverId",
                  "type": "string"
                },
                {
                  "key": "3",
                  "name": "hired",
                  "type": "boolean"
                },
                {
                  "key": "4",
                  "name": "distanceToDestination",
                  "type": "double"
                },
                {
                  "key": "5",
                  "name": "timeToDestinationMins",
                  "type": "bigint"
                },
                {
                  "key": "6",
                  "name": "deviceId",
                  "type": "string"
                },
                {
                  "key": "7",
                  "name": "deviceTimestamp",
                  "type": "string"
                },
                {
                  "key": "8",
                  "name": "DeviceLocation",
                  "type": "StructType(StructField(latitude,DoubleType,true),StructField(longitude,DoubleType,true))"
                },
                {
                  "key": "9",
                  "name": "DestinationLocation",
                  "type": "StructType(StructField(latitude,DoubleType,true),StructField(longitude,DoubleType,true))"
                },
                {
                  "key": "10",
                  "name": "id",
                  "type": "string"
                },
                {
                  "key": "11",
                  "name": "_etag",
                  "type": "string"
                }
              ],
              "truncated": false
            },
            "isSummary": false,
            "language": "scala"
          },
          "persist_state": {
            "view": {
              "type": "details",
              "tableOptions": {},
              "chartOptions": {
                "chartType": "bar",
                "aggregationType": "sum",
                "categoryFieldKeys": [
                  "0"
                ],
                "seriesFieldKeys": [
                  "1"
                ],
                "isStacked": false
              }
            }
          }
        }
      }
    }
  },
  "cells": [
    {
      "cell_type": "code",
      "execution_count": 2,
      "outputs": [
        {
          "output_type": "display_data",
          "data": {
            "application/vnd.livy.statement-meta+json": {
              "spark_pool": "coursepool",
              "session_id": "4",
              "statement_id": 2,
              "state": "finished",
              "livy_statement_state": "available",
              "queued_time": "2024-02-26T03:50:11.8893999Z",
              "session_start_time": "2024-02-26T03:50:11.9339635Z",
              "execution_start_time": "2024-02-26T03:53:37.4417953Z",
              "execution_finish_time": "2024-02-26T03:54:14.7011851Z",
              "spark_jobs": null,
              "parent_msg_id": "c96c07c4-ba49-4921-b2ae-956c454bfe2c"
            },
            "text/plain": "StatementMeta(coursepool, 4, 2, Finished, Available)"
          },
          "metadata": {}
        },
        {
          "output_type": "display_data",
          "data": {
            "application/vnd.synapse.widget-view+json": {
              "widget_id": "cc3f0cf6-91b5-4f28-b95c-f0ac8bf5f025",
              "widget_type": "Synapse.DataFrame"
            },
            "text/plain": "SynapseWidget(Synapse.DataFrame, cc3f0cf6-91b5-4f28-b95c-f0ac8bf5f025)"
          },
          "metadata": {}
        }
      ],
      "metadata": {
        "collapsed": false
      },
      "source": [
        "# Read from Cosmos DB analytical store into a Spark DataFrame and display 10 rows from the DataFrame\n",
        "# To select a preferred list of regions in a multi-region Cosmos DB account, add .option(\"spark.cosmos.preferredRegions\", \"<Region1>,<Region2>\")\n",
        "\n",
        "df = spark.read\\\n",
        "    .format(\"cosmos.olap\")\\\n",
        "    .option(\"spark.synapse.linkedService\", \"ls_cosmos_db_nyc_taxi_data\")\\\n",
        "    .option(\"spark.cosmos.container\", \"Heartbeat\")\\\n",
        "    .load()\n",
        "\n",
        "display(df.limit(10))"
      ]
    }
  ]
}